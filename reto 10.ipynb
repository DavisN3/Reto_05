{
  "nbformat": 4,
  "nbformat_minor": 0,
  "metadata": {
    "colab": {
      "provenance": []
    },
    "kernelspec": {
      "name": "python3",
      "display_name": "Python 3"
    },
    "language_info": {
      "name": "python"
    }
  },
  "cells": [
    {
      "cell_type": "markdown",
      "source": [
        "Punto 1"
      ],
      "metadata": {
        "id": "0iO4m7Zqkaci"
      }
    },
    {
      "cell_type": "code",
      "source": [
        "def ingresar_matriz(filas, columnas):\n",
        "    \"\"\"Permite al usuario ingresar los valores de una matriz de tamaño (filas x columnas).\"\"\"\n",
        "    matriz = []\n",
        "    for i in range(filas):\n",
        "        fila = list(map(int, input(f\"Ingrese los valores de la fila {i+1} separados por espacio: \").split()))\n",
        "        if len(fila) != columnas:\n",
        "            print(\"Vuelva a ejecutar el programa, los datos ingresados no son corre ctos.\")\n",
        "            return None\n",
        "        matriz.append(fila)\n",
        "    return matriz\n",
        "\n",
        "def suma_resta_matrices():\n",
        "    \"\"\"Solicita al usuario el tamaño de las matrices y realiza la suma y resta.\"\"\"\n",
        "    filas, columnas = map(int, input(\"Ingrese el número de filas y columnas para/las matrices (separados por espacio): \").split())\n",
        "\n",
        "    print(\"\\nIngrese los valores de la primera matriz (A):\")\n",
        "    A = ingresar_matriz(filas, columnas)\n",
        "    if A is None:  # Validar si hubo un error al ingresar la matriz\n",
        "        return\n",
        "\n",
        "    print(\"\\nIngrese los valores de la segunda matriz (B):\")\n",
        "    B = ingresar_matriz(filas, columnas)\n",
        "    if B is None:  # Validar si hubo un error al ingresar la matriz\n",
        "        return\n",
        "\n",
        "    # Mostrar las matrices generadas\n",
        "    print(\"\\nMatriz A:\")\n",
        "    for fila in A:\n",
        "        print(fila)\n",
        "\n",
        "    print(\"Matriz B:\")\n",
        "    for fila in B:\n",
        "        print(fila)\n",
        "\n",
        "    # Realizar la suma y resta\n",
        "    suma = [[A[i][j] + B[i][j] for j in range(columnas)] for i in range(filas)]\n",
        "    resta = [[A[i][j] - B[i][j] for j in range(columnas)] for i in range(filas)]\n",
        "\n",
        "    # Mostrar los resultados de la suma y la resta\n",
        "    print(\"\\nSuma de matrices:\")\n",
        "    for fila in suma:\n",
        "        print(fila)\n",
        "\n",
        "    print(\"Resta de matrices:\")\n",
        "    for fila in resta:\n",
        "        print(fila)\n",
        "\n",
        "# Llamada a la función para ejecutar el programa\n",
        "suma_resta_matrices()"
      ],
      "metadata": {
        "id": "hV_yT5JjkhYK"
      },
      "execution_count": null,
      "outputs": []
    },
    {
      "cell_type": "markdown",
      "source": [
        "Punto 2"
      ],
      "metadata": {
        "id": "zwKfGMN5krSh"
      }
    },
    {
      "cell_type": "code",
      "source": [
        "def ingresar_matriz(filas, columnas):\n",
        "    # Pide al usuario que ingrese una matriz de cierto tamaño y la devuelve como una lista de listas\n",
        "    matriz = []\n",
        "    for i in range(filas):\n",
        "        fila = list(map(int, input(f\"Ingrese los valores de la fila {i+1} separados por espacio: \").split()))\n",
        "        if len(fila) != columnas:\n",
        "            print(\"Error: La cantidad de números ingresados no coincide con el número de columnas.\")\n",
        "            return None  # Se retorna None para indicar un error\n",
        "        matriz.append(fila)\n",
        "    return matriz\n",
        "\n",
        "def multiplicacionMatrices():\n",
        "    # Pide las dimensiones de dos matrices, las llena y luego las multiplica\n",
        "    filas_A, columnas_A = map(int, input(\"Ingrese filas y columnas de la primera matriz (A), separados por espacio: \").split())\n",
        "    filas_B, columnas_B = map(int, input(\"Ingrese filas y columnas de la segunda matriz (B), separados por espacio: \").split())\n",
        "\n",
        "    # Para multiplicar, el número de columnas de A debe ser igual al número de filas de B\n",
        "    if columnas_A != filas_B:\n",
        "        print(\"Error: No se pueden multiplicar. El número de columnas de A debe ser igual al de filas de B.\")\n",
        "        return\n",
        "\n",
        "    print(\"\\nIngrese los valores de la primera matriz (A):\")\n",
        "    A = ingresar_matriz(filas_A, columnas_A)\n",
        "    if A is None:  # Si hubo un error, se detiene la función\n",
        "        return\n",
        "\n",
        "    print(\"\\nIngrese los valores de la segunda matriz (B):\")\n",
        "    B = ingresar_matriz(filas_B, columnas_B)\n",
        "    if B is None:  # Si hubo un error, se detiene la función\n",
        "        return\n",
        "\n",
        "    # Muestra las matrices ingresadas\n",
        "    print(\"\\nMatriz A:\")\n",
        "    for fila in A:\n",
        "        print(fila)\n",
        "\n",
        "    print(\"Matriz B:\")\n",
        "    for fila in B:\n",
        "        print(fila)\n",
        "\n",
        "    # Crea una matriz vacía para almacenar el resultado\n",
        "    resultado = []\n",
        "\n",
        "    # Multiplicación de matrices\n",
        "    for i in range(filas_A):\n",
        "        fila_resultado = []\n",
        "        for j in range(columnas_B):\n",
        "            # Calcula el valor de cada celda sumando los productos correspondientes\n",
        "            suma = sum(A[i][k] * B[k][j] for k in range(columnas_A))\n",
        "            fila_resultado.append(suma)\n",
        "        resultado.append(fila_resultado)\n",
        "\n",
        "    # Muestra el resultado de la multiplicación\n",
        "    print(\"\\nResultado de la multiplicación:\")\n",
        "    for fila in resultado:\n",
        "        print(fila)\n",
        "\n",
        "# Ejecuta la función principal\n",
        "multiplicacionMatrices()"
      ],
      "metadata": {
        "id": "TjrIFqZwnGhM"
      },
      "execution_count": null,
      "outputs": []
    },
    {
      "cell_type": "markdown",
      "source": [
        "Punto 3"
      ],
      "metadata": {
        "id": "fhDsI1QhnIT6"
      }
    },
    {
      "cell_type": "code",
      "source": [
        "def ingresar_matriz(filas, columnas):\n",
        "    \"\"\"Permite al usuario ingresar los valores de una matriz de tamaño (filas x columnas).\"\"\"\n",
        "    matriz = []\n",
        "    for i in range(filas):\n",
        "        fila = list(map(int, input(f\"Ingrese los valores de la fila {i+1} separados por espacio: \").split()))\n",
        "        if len(fila) != columnas:\n",
        "            print(\"Error: El número de elementos en la fila no coincide con el número de columnas.\")\n",
        "            return None\n",
        "        matriz.append(fila)\n",
        "    return matriz\n",
        "\n",
        "def matriz_transpuesta():\n",
        "    \"\"\"Calcula la transpuesta de una matriz.\"\"\"\n",
        "    filas, columnas = map(int, input(\"Ingrese el número de filas y columnas de la matriz para calcular su transpuesta (separados por espacio): \").split())\n",
        "\n",
        "    print(\"\\nIngrese los valores de la matriz:\")\n",
        "    matriz = ingresar_matriz(filas, columnas)\n",
        "    if matriz is None:  # Validar si hubo un error al ingresar la matriz\n",
        "        return\n",
        "\n",
        "    # Calcular la transpuesta\n",
        "    transpuesta = []\n",
        "    for j in range(columnas):\n",
        "        fila_transpuesta = []\n",
        "        for i in range(filas):\n",
        "            fila_transpuesta.append(matriz[i][j])\n",
        "        transpuesta.append(fila_transpuesta)\n",
        "\n",
        "    # Mostrar la matriz original\n",
        "    print(\"\\nMatriz original:\")\n",
        "    for fila in matriz:\n",
        "        print(fila)\n",
        "\n",
        "    # Mostrar la matriz transpuesta\n",
        "    print(\"\\nMatriz transpuesta:\")\n",
        "    for fila in transpuesta:\n",
        "        print(fila)\n",
        "\n",
        "# Llamada a la función para ejecutar la transpuesta\n",
        "matriz_transpuesta()\n"
      ],
      "metadata": {
        "id": "OlKnZJrFnJfC"
      },
      "execution_count": null,
      "outputs": []
    },
    {
      "cell_type": "markdown",
      "source": [
        "Punto 4"
      ],
      "metadata": {
        "id": "xUa_S5Lzo0U9"
      }
    },
    {
      "cell_type": "code",
      "source": [
        "def ingresar_matriz(filas, columnas):\n",
        "    # Pide al usuario que ingrese una matriz de cierto tamaño y la devuelve como una lista de listas\n",
        "    matriz = []\n",
        "    for i in range(filas):\n",
        "        fila = list(map(int, input(f\"Ingrese los valores de la fila {i+1} separados por espacio: \").split()))\n",
        "        if len(fila) != columnas:\n",
        "            print(\"Error: La cantidad de números ingresados no coincide con el número de columnas.\")\n",
        "            return None  # Se retorna None para indicar un error\n",
        "        matriz.append(fila)\n",
        "    return matriz\n",
        "\n",
        "def suma_columna(matriz, columna):\n",
        "    # Suma los valores de una columna específica dentro de la matriz\n",
        "    if columna < 0 or columna >= len(matriz[0]):\n",
        "        print(\"Error: La columna ingresada no existe en la matriz.\")\n",
        "        return None  # Devuelve None si la columna está fuera de rango\n",
        "\n",
        "    # Sumar los valores de la columna elegida\n",
        "    return sum(matriz[i][columna] for i in range(len(matriz)))\n",
        "\n",
        "# Ejemplo de uso\n",
        "filas, columnas = map(int, input(\"Ingrese el número de filas y columnas de la matriz (separados por espacio): \").split())\n",
        "\n",
        "print(\"\\nIngrese los valores de la matriz:\")\n",
        "matriz = ingresar_matriz(filas, columnas)\n",
        "\n",
        "if matriz is not None:\n",
        "    print(\"\\nMatriz ingresada:\")\n",
        "    for fila in matriz:\n",
        "        print(fila)\n",
        "\n",
        "    columna = int(input(\"\\nIngrese el número de la columna que desea sumar (comienza en 0): \"))\n",
        "    resultado = suma_columna(matriz, columna)\n",
        "\n",
        "    if resultado is not None:\n",
        "        print(\"Suma de la columna:\", resultado)\n"
      ],
      "metadata": {
        "id": "Ypgh2a_zo1ph"
      },
      "execution_count": null,
      "outputs": []
    },
    {
      "cell_type": "markdown",
      "source": [
        "Punto 5"
      ],
      "metadata": {
        "id": "LroyVaCIp4K9"
      }
    },
    {
      "cell_type": "code",
      "source": [
        "def ingresar_matriz(filas, columnas):\n",
        "    # Pide al usuario que ingrese una matriz de cierto tamaño y la devuelve como una lista de listas\n",
        "    matriz = []\n",
        "    for i in range(filas):\n",
        "        fila = list(map(int, input(f\"Ingrese los valores de la fila {i+1} separados por espacio: \").split()))\n",
        "        if len(fila) != columnas:\n",
        "            print(\"Error: La cantidad de números ingresados no coincide con el número de columnas.\")\n",
        "            return None  # Se retorna None para indicar un error\n",
        "        matriz.append(fila)\n",
        "    return matriz\n",
        "\n",
        "def suma_fila(matriz, fila):\n",
        "    # Suma los valores de una fila específica dentro de la matriz\n",
        "    if fila < 0 or fila >= len(matriz):\n",
        "        print(\"Error: La fila ingresada no existe en la matriz.\")\n",
        "        return None  # Devuelve None si la fila está fuera de rango\n",
        "\n",
        "    return sum(matriz[fila])\n",
        "\n",
        "# Ejemplo de uso\n",
        "filas, columnas = map(int, input(\"Ingrese el número de filas y columnas de la matriz (separados por espacio): \").split())\n",
        "\n",
        "print(\"\\nIngrese los valores de la matriz:\")\n",
        "matriz = ingresar_matriz(filas, columnas)\n",
        "\n",
        "if matriz is not None:\n",
        "    print(\"\\nMatriz ingresada:\")\n",
        "    for fila in matriz:\n",
        "        print(fila)\n",
        "\n",
        "    # Sumar una fila específica\n",
        "    fila = int(input(\"\\nIngrese el número de la fila que desea sumar (comienza en 0): \"))\n",
        "    resultado_fila = suma_fila(matriz, fila)\n",
        "\n",
        "    if resultado_fila is not None:\n",
        "        print(\"Suma de la fila:\", resultado_fila)\n"
      ],
      "metadata": {
        "id": "oYfaG6X3p5Lw"
      },
      "execution_count": null,
      "outputs": []
    }
  ]
}